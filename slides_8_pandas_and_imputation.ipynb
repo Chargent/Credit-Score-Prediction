{
 "cells": [
  {
   "cell_type": "markdown",
   "metadata": {
    "id": "rHLcriKWLRe4"
   },
   "source": [
    "# Pandas and Data Imputation - Exercises Lesson 8 (28/03/2025)"
   ]
  },
  {
   "cell_type": "code",
   "execution_count": null,
   "metadata": {
    "id": "aSRYu62xUi3g"
   },
   "outputs": [],
   "source": [
    "import pandas as pd\n",
    "import numpy as np\n",
    "pd.__version__"
   ]
  },
  {
   "cell_type": "markdown",
   "metadata": {},
   "source": [
    "## Strings"
   ]
  },
  {
   "cell_type": "code",
   "execution_count": null,
   "metadata": {},
   "outputs": [],
   "source": [
    "titanic = pd.read_csv(\"https://raw.githubusercontent.com/pandas-dev/pandas/main/doc/data/titanic.csv\")"
   ]
  },
  {
   "cell_type": "markdown",
   "metadata": {},
   "source": [
    "You can make all name characters lowercase.\n"
   ]
  },
  {
   "cell_type": "code",
   "execution_count": null,
   "metadata": {},
   "outputs": [],
   "source": [
    "titanic.head()\n",
    "\n"
   ]
  },
  {
   "cell_type": "markdown",
   "metadata": {},
   "source": [
    "\n",
    "\n",
    "To make each of the strings in the Name column lowercase, select the *Name* column, add the *str* accessor and apply the lower method. As such, each of the strings is converted element-wise.\n",
    "\n",
    "Similar to datetime objects in the time series section having a dt accessor, a number of specialized string methods are available when using the str accessor. "
   ]
  },
  {
   "cell_type": "code",
   "execution_count": null,
   "metadata": {},
   "outputs": [],
   "source": [
    "titanic[\"Name\"].str.lower()"
   ]
  },
  {
   "cell_type": "markdown",
   "metadata": {},
   "source": [
    "## Exercise 0 - Create a new column Surname that contains the surname of the passengers by extracting the part before the comma. And one column to keep only the name."
   ]
  },
  {
   "cell_type": "markdown",
   "metadata": {},
   "source": [
    "## Exercise 0.1 - Extract rows with the word \"Countess\" in the surname or name"
   ]
  },
  {
   "attachments": {},
   "cell_type": "markdown",
   "metadata": {},
   "source": [
    "## Pandas for Time-Series\n",
    "\n",
    "Pandas offers a wide ranges of operations to store and handle time-series:\n",
    "\n",
    "* a datetime type, to track the time-series observation times\n",
    "* resampling approaches to change time-series frequency\n",
    "* rolling operations\n"
   ]
  },
  {
   "cell_type": "code",
   "execution_count": null,
   "metadata": {},
   "outputs": [],
   "source": [
    "stock = pd.read_csv(\"https://raw.githubusercontent.com/rashida048/Datasets/refs/heads/master/stock_data.csv\", sep=\",\")"
   ]
  },
  {
   "cell_type": "code",
   "execution_count": null,
   "metadata": {},
   "outputs": [],
   "source": [
    "stock"
   ]
  },
  {
   "cell_type": "markdown",
   "metadata": {},
   "source": [
    "we can create a datatime index to associate each observation to a specific time!\n",
    "\n"
   ]
  },
  {
   "cell_type": "code",
   "execution_count": null,
   "metadata": {},
   "outputs": [],
   "source": [
    "## Save the Date into a new column\n",
    "stock[\"Date\"] = pd.to_datetime(stock[\"Date\"])\n",
    "\n",
    "## Print\n",
    "stock"
   ]
  },
  {
   "cell_type": "code",
   "execution_count": null,
   "metadata": {},
   "outputs": [],
   "source": [
    "stock[stock[\"Date\"] == \"2017-12-27\"]"
   ]
  },
  {
   "cell_type": "markdown",
   "metadata": {},
   "source": [
    "By using Timestamp objects for dates, a lot of time-related properties are provided by pandas. For example the month, but also year, quarter,… All of these properties are accessible by the dt accessor."
   ]
  },
  {
   "cell_type": "code",
   "execution_count": null,
   "metadata": {},
   "outputs": [],
   "source": [
    "stock[stock[\"Date\"].dt.month == 2]"
   ]
  },
  {
   "cell_type": "markdown",
   "metadata": {},
   "source": [
    "You can use resampling approaches to change the data frequencies, from daily to a year frequency for example"
   ]
  },
  {
   "cell_type": "code",
   "execution_count": null,
   "metadata": {},
   "outputs": [],
   "source": [
    "## In this case the Date should be set as index \n",
    "stock.index = stock[\"Date\"]\n",
    "\n",
    "# Resample to (M) monthly frequency\n",
    "stock_monthly = stock.resample('Y').last()  ## can be max, min, etc..\n",
    "\n",
    "#Print\n",
    "stock_monthly[[\"Open\", \"High\", \"Low\", \"Close\"]]"
   ]
  },
  {
   "cell_type": "code",
   "execution_count": null,
   "metadata": {},
   "outputs": [],
   "source": [
    "stock_monthly[[\"Open\", \"High\", \"Low\", \"Close\"]].plot()"
   ]
  },
  {
   "cell_type": "markdown",
   "metadata": {},
   "source": [
    "You can compute moving averages and rolling operations"
   ]
  },
  {
   "cell_type": "code",
   "execution_count": null,
   "metadata": {},
   "outputs": [],
   "source": [
    "stock_monthly['3year_avg'] = stock_monthly['Close'].rolling(window=3).mean()\n",
    "stock_monthly"
   ]
  },
  {
   "cell_type": "markdown",
   "metadata": {},
   "source": [
    "## Exercise 1 - Bollinger Bands\n",
    "\n",
    "A **Bollinger Band®** is a technical analysis tool defined by a set of **trendlines plotted two standard deviations (positively and negatively) away from a simple moving average (SMA)** of a security's price, but which can be adjusted to user preferences. Bollinger Bands® were developed and copyrighted by the famous technical trader John Bollinger, designed to  identify when an asset is oversold or overbought. Many traders believe the closer the prices move to the upper band (UB), the more overbought the market is, and the closer the prices move to the lower band, the more oversold the market is <a href=\"https://www.investopedia.com/terms/b/bollingerbands.asp\">[1]</a>.\n",
    "\n",
    "**Step 1** consists in reading the whole stock dataset, computing and plotting (optional) the Bollinger bands of the close price, using a moving average (20 days window size). In particular, we want to compute:\n",
    "- The moving average MA(20): is the simple moving average (SMA) of the close price in the last 20 days. \n",
    "- The SD(20): is standard deviation (SD) of the closing prices in the last 20 days. \n",
    "- Upper bound UB(20): is the sum of the 20-period SMA and two times the 20-period standard deviation (SD) of the closing prices.\n",
    "- Lower Band LB(20): is the 20-period SMA minus two times the 20-period SD of the closing prices.\n",
    "\n",
    "Some traders believe that: when the close price moves above the upper band (UB), the market is overbought (maybe we should sell). While more the prices move to the lower band, the more oversold the market is (maybe we should buy).\n",
    "\n",
    "The strategy looks similar to this:\n",
    "<img src=\"https://raw.githubusercontent.com/matteoprata/AI4Trading/598b3037c9dcd6282a9f3f12acbb9da9aa2f7ec3/data/press_images/signals_by_boil.svg\"/>\n",
    "\n",
    "**Tasks 2** consists in identifying potential buying and selling opportunities according to this strategy, and create a new column with buy and sell.\n",
    "\n",
    "To implement Bollinger bands you may want to use: _rolling mean_, _rolling standard deviation_, _arrays operations and indexing_, _dataframe plotting_. \n",
    "\n",
    "Additional material:\n",
    "- https://www.investopedia.com/terms/b/bollingerbands.asp\n",
    "- https://www.bollingerbands.com/bollinger-band-rules\n",
    "- https://www.iforex.in/bollinger-bands\n",
    "\n",
    "\n",
    "*Disclaimer:*\n",
    "- This code is for example and teaching purposes only. Do not use this to make any real trades in financial markets."
   ]
  },
  {
   "attachments": {
    "5e053174-2ac8-460e-954e-3908be9d085a.png": {
     "image/png": "[encoded data removed]"
    }
   },
   "cell_type": "markdown",
   "metadata": {},
   "source": [
    "### Plot with pandas\n",
    "\n",
    "* The .plot.* methods are applicable on both Series and DataFrames\n",
    "* By default, each of the columns is plotted as a different element (line, boxplot,..)\n",
    "* Any plot created by pandas is a Matplotlib object\n",
    "\n",
    "![plots.png](attachment:5e053174-2ac8-460e-954e-3908be9d085a.png)\n"
   ]
  },
  {
   "cell_type": "code",
   "execution_count": null,
   "metadata": {},
   "outputs": [],
   "source": [
    "stock[\"Close\"].plot()"
   ]
  },
  {
   "cell_type": "markdown",
   "metadata": {},
   "source": [
    "## Group by: split-apply-combine\n",
    "\n",
    "By “group by” we are referring to a process involving one or more of the following steps:\n",
    "\n",
    "* **Splitting** the data into groups based on some criteria.\n",
    "\n",
    "* **Applying** a function to each group independently.\n",
    "\n",
    "* **Combining** the results into a data structure.\n"
   ]
  },
  {
   "cell_type": "code",
   "execution_count": null,
   "metadata": {},
   "outputs": [],
   "source": [
    "speeds = pd.DataFrame(\n",
    "    [\n",
    "        (\"bird\", \"Falconiformes\", 389.0),\n",
    "        (\"bird\", \"Psittaciformes\", 24.0),\n",
    "        (\"mammal\", \"Carnivora\", 80.2),\n",
    "        (\"mammal\", \"Primates\", 20.0),\n",
    "        (\"mammal\", \"Carnivora\", 58),\n",
    "    ],\n",
    "    index=[\"falcon\", \"parrot\", \"lion\", \"monkey\", \"leopard\"],\n",
    "    columns=(\"class\", \"order\", \"max_speed\"),\n",
    ")"
   ]
  },
  {
   "cell_type": "code",
   "execution_count": null,
   "metadata": {},
   "outputs": [],
   "source": [
    "speeds"
   ]
  },
  {
   "cell_type": "code",
   "execution_count": null,
   "metadata": {},
   "outputs": [],
   "source": [
    "grouped = speeds.groupby(\"class\").max()\n",
    "grouped"
   ]
  },
  {
   "cell_type": "markdown",
   "metadata": {},
   "source": [
    "## Exercise 2 \n",
    "\n",
    "You are given a dataset of stock transactions containing the following columns:  \n",
    "\n",
    "- **Date**: The date of the transaction  \n",
    "- **Trader**: The name of the trader  \n",
    "- **Stock**: The stock ticker symbol (e.g., AAPL, TSLA)  \n",
    "- **Quantity**: Number of shares traded  \n",
    "- **Price**: Price per share at the time of trade  \n",
    "\n",
    "Your task is to analyze this dataset using `groupby` to answer the following:  \n",
    "\n",
    "1. Compute the **total traded value** (Quantity × Price) for each **trader and stock combination**.  \n",
    "2. For each trader, find the **stock they traded the most (highest quantity)**.  \n",
    "3. Compute the **average price per stock** but only for traders who traded at least 10,000 shares in total.  \n",
    "4. Find the **top 3 traders** with the highest total traded value.  \n"
   ]
  },
  {
   "cell_type": "code",
   "execution_count": null,
   "metadata": {},
   "outputs": [],
   "source": [
    "import pandas as pd\n",
    "import numpy as np\n",
    "\n",
    "# Sample dataset\n",
    "data = {\n",
    "    \"Date\": pd.date_range(start=\"2024-01-01\", periods=20, freq=\"D\"),\n",
    "    \"Trader\": np.random.choice([\"Alice\", \"Bob\", \"Charlie\", \"David\"], size=20),\n",
    "    \"Stock\": np.random.choice([\"AAPL\", \"TSLA\", \"GOOG\", \"AMZN\"], size=20),\n",
    "    \"Quantity\": np.random.randint(100, 5000, size=20),\n",
    "    \"Price\": np.random.uniform(100, 500, size=20),\n",
    "}\n",
    "\n",
    "df = pd.DataFrame(data)\n",
    "df"
   ]
  },
  {
   "cell_type": "code",
   "execution_count": null,
   "metadata": {},
   "outputs": [],
   "source": []
  },
  {
   "cell_type": "markdown",
   "metadata": {},
   "source": [
    "## Exercises 3 - reconstruct the first 100 Steps of Open using your preferred approach"
   ]
  },
  {
   "cell_type": "code",
   "execution_count": null,
   "metadata": {},
   "outputs": [],
   "source": [
    "\n",
    "# Generate missnig values (25%)\n",
    "np.random.seed(232)\n",
    "stock_miss = stock.copy()\n",
    "stock_miss['is_na_mask'] = np.random.binomial(n=1, p=0.25, size=stock_miss.shape[0]).astype('bool')*2000 #multiply by 2000 so lines visible in plot later\n",
    "stock_miss = stock_miss.assign(Open_na = lambda x: np.where(x['is_na_mask'], np.nan, x['Open'])) \n",
    "\n",
    "stock_miss[[\"Open_na\"]][:100].plot() "
   ]
  },
  {
   "cell_type": "code",
   "execution_count": null,
   "metadata": {},
   "outputs": [],
   "source": []
  },
  {
   "cell_type": "markdown",
   "metadata": {},
   "source": [
    "## Exercises 4 : reconstruct the volume feature using your preferred approach"
   ]
  },
  {
   "cell_type": "code",
   "execution_count": null,
   "metadata": {},
   "outputs": [],
   "source": [
    "### sample missing value on Open \n",
    "\n",
    "# Generate missnig values (25%)\n",
    "np.random.seed(232)\n",
    "stock_miss = stock.copy()\n",
    "stock_miss['is_na_mask'] = np.random.binomial(n=1, p=0.25, size=stock_miss.shape[0]).astype('bool')*2000 #multiply by 2000 so lines visible in plot later\n",
    "stock_miss = stock_miss.assign(Volume_na = lambda x: np.where(x['is_na_mask'], np.nan, x['Volume'])) \n",
    "\n",
    "stock_miss[[\"Volume_na\"]][:100].plot() "
   ]
  },
  {
   "cell_type": "code",
   "execution_count": null,
   "metadata": {},
   "outputs": [],
   "source": []
  },
  {
   "cell_type": "markdown",
   "metadata": {},
   "source": [
    "## Exercise 5: Imputation for Stock Market Data\n",
    "\n",
    "Now let's focus on the whole multi-variate dataset:\n",
    "\n",
    "Some values are missing due to data corruption or transmission delays. Your goal is to **handle missing values logically while keeping the dataset valid**.\n",
    "\n",
    "### **Your Tasks**\n",
    "1. **Identify Missing Values**  \n",
    "   - Print the number of missing values per column.  \n",
    "   - Determine which year have the most missing values.  \n",
    "\n",
    "2. **Impute the Missing Values with Full Flexibility**  \n",
    "   - You can use **any method** (mean, median, forward-fill, backward-fill, rolling window, interpolation, etc.) for:\n",
    "     - `Open`\n",
    "     - `Close`\n",
    "     - `Volume`  \n",
    "   - The only requirement:  \n",
    "     - Ensure that `Low ≤ High` (swap values if necessary).  \n",
    "\n",
    "\n"
   ]
  },
  {
   "cell_type": "code",
   "execution_count": null,
   "metadata": {},
   "outputs": [],
   "source": [
    "stock"
   ]
  },
  {
   "cell_type": "code",
   "execution_count": null,
   "metadata": {},
   "outputs": [],
   "source": [
    "# Generate missnig values (25%)\n",
    "np.random.seed(232)\n",
    "stock_miss = stock[[\"Open\", \"High\", \"Low\", \"Close\", \"Volume\"]].copy()\n",
    "## add missing value to all columns \n",
    "for col in  stock_miss.columns:\n",
    "    stock_miss[col] = np.where(np.random.binomial(n=1, p=0.25, size=stock_miss.shape[0]).astype('bool')*2000, np.nan, stock_miss[col])\n",
    "\n",
    "stock_miss[:100][[\"Open\",\"High\", \"Low\", \"Close\"]].plot() \n"
   ]
  },
  {
   "cell_type": "code",
   "execution_count": null,
   "metadata": {},
   "outputs": [],
   "source": [
    "## volume\n",
    "stock_miss[:100][[\"Volume\"]].plot() \n"
   ]
  },
  {
   "cell_type": "markdown",
   "metadata": {},
   "source": [
    "## Exercise 7 : Given the following googl stock, please remove all rows that are a Saturday or a Sunday. Then compute: 1) the avgs close prices on Friday; 2) the avg differences between Friday close price and the close price on the next monday."
   ]
  },
  {
   "cell_type": "code",
   "execution_count": null,
   "metadata": {},
   "outputs": [],
   "source": [
    "\n",
    "googl = pd.read_csv(\"https://raw.githubusercontent.com/jsyoon0823/TimeGAN/master/data/stock_data.csv\", sep=\",\")\n",
    "# Create a datetime index based on the length of the DataFrame (NOTE: this should not include sundays and saturdays).\n",
    "date_range = pd.date_range(start='2001-01-01', periods=len(googl), freq='D')\n",
    "\n",
    "## Save the Date into a new column\n",
    "googl[\"Date\"] = date_range\n",
    "\n",
    "googl"
   ]
  },
  {
   "cell_type": "markdown",
   "metadata": {},
   "source": [
    "## Exercise 6 : For titanic Age (univariate data) design an algorithm to impute by sampling the top N most frequent values"
   ]
  },
  {
   "cell_type": "code",
   "execution_count": null,
   "metadata": {},
   "outputs": [],
   "source": []
  },
  {
   "cell_type": "markdown",
   "metadata": {},
   "source": [
    "## Pandas performance\n",
    "\n",
    "How to use pandas at the top of its performance.\n",
    "\n"
   ]
  },
  {
   "cell_type": "code",
   "execution_count": null,
   "metadata": {},
   "outputs": [],
   "source": [
    "N = 10**5\n",
    "A_list = np.random.randint(1, 100, N)\n",
    "B_list = np.random.randint(1, 100, N)\n",
    "df = pd.DataFrame({'A': A_list, 'B': B_list})\n",
    "df.head()"
   ]
  },
  {
   "cell_type": "markdown",
   "metadata": {},
   "source": [
    "Let's suppose that we want to divide the column A by column B:  "
   ]
  },
  {
   "cell_type": "code",
   "execution_count": null,
   "metadata": {},
   "outputs": [],
   "source": [
    "%%time\n",
    "## First approach\n",
    "df[\"C\"] = np.nan\n",
    "for _, row in df.iterrows():\n",
    "    df[\"C\"] = df[\"A\"] / df[\"B\"]\n",
    "df"
   ]
  },
  {
   "cell_type": "code",
   "execution_count": null,
   "metadata": {},
   "outputs": [],
   "source": [
    "%%time\n",
    "## Apply approach\n",
    "df[\"C\"] = df.apply(lambda row: row[\"A\"] / row[\"B\"], axis=1)\n",
    "df"
   ]
  },
  {
   "cell_type": "code",
   "execution_count": null,
   "metadata": {},
   "outputs": [],
   "source": [
    "%%time\n",
    "df[\"A\"] / df[\"B\"]\n",
    "df"
   ]
  },
  {
   "cell_type": "markdown",
   "metadata": {},
   "source": [
    "## Saving and Loading times highly change wrt different file format:\n",
    "\n",
    "Let's do some examples.\n"
   ]
  },
  {
   "cell_type": "code",
   "execution_count": null,
   "metadata": {},
   "outputs": [],
   "source": [
    "N = 10**8\n",
    "A_list = np.random.randint(1, 100, N)\n",
    "B_list = np.random.randint(1, 100, N)\n",
    "C_list = np.random.randint(1, 100, N)\n",
    "df = pd.DataFrame({'A': A_list, 'B': B_list})\n",
    "len(df)"
   ]
  },
  {
   "cell_type": "code",
   "execution_count": null,
   "metadata": {},
   "outputs": [],
   "source": [
    "%%time\n",
    "df.to_csv(\"df.csv\")"
   ]
  },
  {
   "cell_type": "code",
   "execution_count": null,
   "metadata": {},
   "outputs": [],
   "source": [
    "%%time\n",
    "df = pd.read_csv(\"df.csv\")"
   ]
  },
  {
   "cell_type": "code",
   "execution_count": null,
   "metadata": {},
   "outputs": [],
   "source": [
    "%%time\n",
    "df.to_hdf('data.h5', key='df', mode='w')  "
   ]
  },
  {
   "cell_type": "code",
   "execution_count": null,
   "metadata": {},
   "outputs": [],
   "source": [
    "%%time\n",
    "df = pd.read_hdf('data.h5', 'df') "
   ]
  },
  {
   "cell_type": "code",
   "execution_count": null,
   "metadata": {},
   "outputs": [],
   "source": [
    "%%time\n",
    "df.to_parquet('df.parquet')  "
   ]
  },
  {
   "cell_type": "code",
   "execution_count": null,
   "metadata": {},
   "outputs": [],
   "source": [
    "%%time\n",
    "df = pd.read_parquet('df.parquet')"
   ]
  },
  {
   "attachments": {},
   "cell_type": "markdown",
   "metadata": {},
   "source": [
    "# References:\n",
    "\n",
    "- https://pandas.pydata.org/docs/getting_started/\n",
    "- https://pandas.pydata.org/community/ecosystem.htmlik\n",
    "- https://pandas.pydata.org/Pandas_Cheat_Sheet.pdf\n",
    "- https://towardsdatascience.com/the-best-format-to-save-pandas-data-414dca023e0d\n"
   ]
  }
 ],
 "metadata": {
  "colab": {
   "collapsed_sections": [
    "JndnmDMp66FL",
    "YHIWvc9Ms-Ll",
    "TJffr5_Jwqvd"
   ],
   "name": "intro_to_pandas.ipynb",
   "provenance": []
  },
  "kernelspec": {
   "display_name": "aai",
   "language": "python",
   "name": "python3"
  },
  "language_info": {
   "codemirror_mode": {
    "name": "ipython",
    "version": 3
   },
   "file_extension": ".py",
   "mimetype": "text/x-python",
   "name": "python",
   "nbconvert_exporter": "python",
   "pygments_lexer": "ipython3",
   "version": "3.11.11"
  }
 },
 "nbformat": 4,
 "nbformat_minor": 4
}
